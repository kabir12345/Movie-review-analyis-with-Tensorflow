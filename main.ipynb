{
  "nbformat": 4,
  "nbformat_minor": 0,
  "metadata": {
    "colab": {
      "name": "Deep_learning2.ipynb",
      "provenance": []
    },
    "kernelspec": {
      "name": "python3",
      "display_name": "Python 3"
    }
  },
  "cells": [
    {
      "cell_type": "code",
      "metadata": {
        "id": "h5jnO8yOMfn_",
        "colab_type": "code",
        "colab": {
          "base_uri": "https://localhost:8080/",
          "height": 122
        },
        "outputId": "ca90ca97-a473-44d0-fe6d-be07d06286d7"
      },
      "source": [
        "data=keras.datasets.imdb\n",
        "(train_data,train_labels),(test_data,test_labels)=data.load_data(num_words=88000)\n",
        "word_index=data.get_word_index()\n",
        "word_index={k:(v+3) for k,v  in word_index.items()}\n",
        "word_index[\"<PAD>\"]=0\n",
        "word_index[\"<START>\"]=1\n",
        "word_index[\"<UNK>\"]=2\n",
        "word_index[\"<UNUSED>\"]=3\n",
        "reverse_word_index=dict([(value,key)for(key,value) in word_index.items()])\n",
        "def decode_review(text):\n",
        "  return \" \".join([reverse_word_index.get(i,\"?\") for i in text])\n",
        "print(decode_review(test_data[0]))\n"
      ],
      "execution_count": 9,
      "outputs": [
        {
          "output_type": "stream",
          "text": [
            "Downloading data from https://storage.googleapis.com/tensorflow/tf-keras-datasets/imdb.npz\n",
            "17465344/17464789 [==============================] - 0s 0us/step\n",
            "Downloading data from https://storage.googleapis.com/tensorflow/tf-keras-datasets/imdb_word_index.json\n",
            "1646592/1641221 [==============================] - 0s 0us/step\n",
            "<START> please give this one a miss br br kristy swanson and the rest of the cast rendered terrible performances the show is flat flat flat br br i don't know how michael madison could have allowed this one on his plate he almost seemed to know this wasn't going to work out and his performance was quite lacklustre so all you madison fans give this a miss\n"
          ],
          "name": "stdout"
        }
      ]
    },
    {
      "cell_type": "code",
      "metadata": {
        "id": "NZaZZPiXJOiH",
        "colab_type": "code",
        "colab": {}
      },
      "source": [
        "import tensorflow as tf\n",
        "import numpy as np\n",
        "from tensorflow import keras"
      ],
      "execution_count": 0,
      "outputs": []
    },
    {
      "cell_type": "code",
      "metadata": {
        "id": "78DxbCTCJU9H",
        "colab_type": "code",
        "colab": {}
      },
      "source": [
        "model=keras.models.load_model(\"text_pred.h5\")"
      ],
      "execution_count": 0,
      "outputs": []
    },
    {
      "cell_type": "code",
      "metadata": {
        "id": "9LhC-ES1Jeui",
        "colab_type": "code",
        "colab": {}
      },
      "source": [
        "review1=\"It is a really bad moview with horrible acting style and really bad production the story is very boring and I hated the movie \""
      ],
      "execution_count": 0,
      "outputs": []
    },
    {
      "cell_type": "code",
      "metadata": {
        "id": "RB6iDHAeLKt7",
        "colab_type": "code",
        "colab": {
          "base_uri": "https://localhost:8080/",
          "height": 34
        },
        "outputId": "2e7820d3-ab0c-4b6b-8031-c3b1573c64f9"
      },
      "source": [
        "def review_encode(s):\n",
        "  encoded=[1]\n",
        "  for word in s:\n",
        "    if word in word_index:\n",
        "      encoded.append(word_index[word.lower()])\n",
        "    else:\n",
        "      encoded.append(2)\n",
        "  return encoded\n",
        "\n",
        "encode=review_encode(review1)\n",
        "encode=keras.preprocessing.sequence.pad_sequences([encode],value=word_index[\"<PAD>\"],padding=\"post\",maxlen=250)\n",
        "predictions=model.predict(encode)\n",
        "print(predictions)"
      ],
      "execution_count": 20,
      "outputs": [
        {
          "output_type": "stream",
          "text": [
            "[[0.00082531]]\n"
          ],
          "name": "stdout"
        }
      ]
    }
  ]
}